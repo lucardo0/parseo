{
 "cells": [
  {
   "cell_type": "code",
   "execution_count": 1,
   "metadata": {},
   "outputs": [],
   "source": [
    "from os import listdir\n",
    "from os.path import isfile, join, exists\n",
    "import pandas as pd\n",
    "import io\n",
    "import numpy as np\n",
    "import re\n",
    "import xlrd\n",
    "from datetime import datetime"
   ]
  },
  {
   "cell_type": "code",
   "execution_count": 79,
   "metadata": {},
   "outputs": [],
   "source": [
    "def pandas2tsv(df,path):\n",
    "    base_path = \"D:/Users/ldavid/Documents/Stock Combustible\"\n",
    "    sep = ','\n",
    "    index = False\n",
    "    header = True\n",
    "    encoding = 'utf-8-sig'\n",
    "    df.to_csv(base_path+path,\n",
    "              index=index,\n",
    "              sep=sep,\n",
    "              header=header,\n",
    "              encoding=encoding\n",
    "              )\n",
    "def get_fecha2(year,month):\n",
    "    for i in range(len(list_of_months)):\n",
    "        if i<3 and month==list_of_months[i]:\n",
    "            fecha='01-'+ '0' + str(i+7) + '-' + year\n",
    "            \n",
    "        elif i>2 and month==list_of_months[i]:\n",
    "            fecha='01-' + str(i+7) + '-' + year\n",
    "                 \n",
    "    return fecha    "
   ]
  },
  {
   "cell_type": "code",
   "execution_count": 1,
   "metadata": {},
   "outputs": [],
   "source": [
    "list_of_years=['2011']\n",
    "#list_of_months=['01 Enero','02 Febrero','03 Marzo','04 Abril', '05 Mayo', '06 Junio','07 Julio','08 Agosto', '09 Septiembre','10 Octubre', '11 Noviembre', '12 Diciembre']\n",
    "list_of_months=['01 Enero','02 Febrero']"
   ]
  },
  {
   "cell_type": "code",
   "execution_count": 83,
   "metadata": {},
   "outputs": [
    {
     "name": "stdout",
     "output_type": "stream",
     "text": [
      "Control stock julio 2011_WEB.xls\n",
      "Control stock agosto 2011_WEB.xls\n",
      "Control stock septiembre 2011_WEB (Autoguardado).xls\n",
      "Control stock octubre 2011_WEB.xls\n",
      "Control stock noviembre 2011_WEB.xls\n",
      "Control stock diciembre 2011_WEB - Disponibilidad de Gas.xls\n"
     ]
    }
   ],
   "source": [
    "listLines = []\n",
    "\n",
    "def read_excel_files(folder):\n",
    "    onlyfiles = [f for f in listdir(folder) if isfile(join(folder, f))]\n",
    "    onlyfiles = filter(lambda x:x.endswith((\".xls\")), onlyfiles)\n",
    "    \n",
    "\n",
    "    data={}\n",
    "    columns=['Empresa','Tipo_combustible','Stock_inicial','Stock_final','Mermas','fecha']\n",
    "    df2 = pd.DataFrame(data=data, columns=columns)\n",
    "    df1 = pd.DataFrame()\n",
    "    \n",
    "    for excel_file in onlyfiles:\n",
    "        print(excel_file)\n",
    "        df = pd.read_excel(folder+\"/\"+excel_file,sheet_name='Stock Informado-Teórico', skiprows=84)\n",
    "\n",
    "        df = df.rename(columns={'Tabla N°1: Valores informados por las empresas': 'otro'})\n",
    "        df = df.rename(columns={'Unnamed: 1': 'col'})\n",
    "        df = df.rename(columns={'Unnamed: 2': 'Electroandina'})\n",
    "        df = df.rename(columns={'Unnamed: 3': 'arena'})\n",
    "        df = df.rename(columns={'Unnamed: 4': 'ECL'})\n",
    "        df = df.rename(columns={'Unnamed: 5': 'arena2'})\n",
    "        df = df.rename(columns={'Unnamed: 6': 'Norgener'})\n",
    "        df = df.rename(columns={'Unnamed: 7': 'otro2'})\n",
    "        df = df.rename(columns={'Unnamed: 8': 'Celta'})\n",
    "        df = df.rename(columns={'Unnamed: 9': 'Angamos'})\n",
    "        df = df.rename(columns={'Unnamed: 10': 'CTA'})\n",
    "        df = df.rename(columns={'Unnamed: 12': 'CTH'})\n",
    "\n",
    "        a=df.index[df['col'] == 'Stock inicial'].tolist()\n",
    "        b=df.index[df['col'] == 'Mermas'].tolist()\n",
    "        c=df.index[df['col'] == 'Stock final'].tolist()\n",
    "        A=df.index[df['otro'] == 'Stock inicial'].tolist()\n",
    "        C=df.index[df['otro'] == 'Stock final'].tolist()\n",
    "\n",
    "            #Electroandina\n",
    "        df3 = pd.DataFrame({'Stock_inicial':[df.Electroandina[a[0]]],'Stock_final':[df.Electroandina[c[0]]],'Tipo_combustible':[df.Electroandina[a[0]-2]],'Mermas':df.Electroandina[b[0]],'Empresa':[df.Electroandina[a[0]-3]]})\n",
    "        df2 = df2.append(df3)\n",
    "\n",
    "            #ECL\n",
    "        df4 = pd.DataFrame({'Stock_inicial':[df.ECL[a[0]]],'Stock_final':[df.Electroandina[c[0]]],'Tipo_combustible':[df.ECL[a[0]-2]],'Mermas':df.ECL[b[0]],'Empresa':[df.ECL[a[0]-3]]})\n",
    "        df2 = df2.append(df4)\n",
    "\n",
    "            #Norgener\n",
    "        df5 = pd.DataFrame({'Stock_inicial':[df.Norgener[a[0]]],'Stock_final':[df.Electroandina[c[0]]],'Tipo_combustible':[df.Norgener[a[0]-2]],'Mermas':df.Norgener[b[0]],'Empresa':[df.Norgener[a[0]-3]]})\n",
    "        df2 = df2.append(df5)\n",
    "\n",
    "            #Celta\n",
    "        df6 = pd.DataFrame({'Stock_inicial':[df.Celta[a[0]]],'Stock_final':[df.Electroandina[c[0]]],'Tipo_combustible':[df.Celta[a[0]-2]],'Mermas':df.Celta[b[0]],'Empresa':[df.Celta[a[0]-3]]})\n",
    "        df2 = df2.append(df6)\n",
    "\n",
    "            #Angamos\n",
    "        df7 = pd.DataFrame({'Stock_inicial':[df.Angamos[a[0]]],'Stock_final':[df.Electroandina[c[0]]],'Tipo_combustible':[df.Angamos[a[0]-2]],'Mermas':df.Angamos[b[0]],'Empresa':[df.Angamos[a[0]-3]]})\n",
    "        df2 = df2.append(df7) \n",
    "\n",
    "            #CTA\n",
    "        df8 = pd.DataFrame({'Stock_inicial':[df.CTA[a[0]]],'Stock_final':[df.CTA[c[0]]],'Tipo_combustible':[df.CTA[a[0]-2]],'Mermas':[df.CTA[b[0]]],'Empresa':[df.CTA[a[0]-3]]})\n",
    "        #df88= pd.DataFrame({'Stock_inicial':[df.arena[a[1]]],'Stock_final':[df.arena[c[1]]],'Tipo_combustible':[df.arena[a[1]-2]],'Mermas':[df.arena[b[1]]],'Empresa':[df.Electroandina[a[1]-3]]})\n",
    "        #df888=pd.DataFrame({'Stock_inicial':[df.Electroandina[a[1]]],'Stock_final':[df.Electroandina[c[1]]],'Tipo_combustible':[df.Electroandina[a[1]-2]],'Mermas':[df.Electroandina[b[1]]],'Empresa':[df.Electroandina[a[1]-3]]})\n",
    "        #df8 = df8.append(df888)\n",
    "        #df8 = df8.append(df88)                                                                                                                                   \n",
    "        df2 = df2.append(df8) \n",
    "\n",
    "            #CTH\n",
    "        df9 = pd.DataFrame({'Stock_inicial':[df.CTH[a[0]]],'Stock_final':[df.Electroandina[c[0]]],'Tipo_combustible':[df.CTH[a[0]-2]],'Mermas':[df.CTH[b[0]]],'Empresa':[df.CTH[a[0]-3]]})\n",
    "        #df99= pd.DataFrame({'Stock_inicial':[df.arena2[a[1]]],'Stock_final':[df.arena2[c[1]]],'Tipo_combustible':[df.arena2[a[1]-2]],'Mermas':[df.arena2[b[1]]],'Empresa':[df.ECL[a[1]-3]]})\n",
    "        #df999=pd.DataFrame({'Stock_inicial':[df.ECL[a[1]]],'Stock_final':[df.ECL[c[1]]],'Tipo_combustible':[df.ECL[a[1]-2]],'Mermas':[df.ECL[b[1]]],'Empresa':[df.ECL[a[1]-3]]})\n",
    "        #df9 = df9.append(df999)\n",
    "        #df9 = df9.append(df99)                                                                                                                                   \n",
    "        df2 = df2.append(df9)\n",
    "\n",
    "            #Tabla N°3: Valores informados por las empresas\n",
    "        ToDie = pd.DataFrame({'Stock_inicial':[df.col[A[0]]],'Stock_final':[df.col[C[0]]],'Tipo_combustible':[df.col[A[0]-2]],'Empresa':[df.col[A[0]-3]]})\n",
    "        ToOil= pd.DataFrame({'Stock_inicial':[df.Electroandina[A[0]]],'Stock_final':[df.Electroandina[C[0]]],'Tipo_combustible':[df.Electroandina[A[0]-2]],'Empresa':[df.col[A[0]-3]]})\n",
    "        TaDie=pd.DataFrame({'Stock_inicial':[df.arena[A[0]]],'Stock_final':[df.arena[C[0]]],'Tipo_combustible':[df.arena[A[0]-2]],'Empresa':[df.arena[A[0]-3]]})\n",
    "        TaOil=pd.DataFrame({'Stock_inicial':[df.ECL[A[0]]],'Stock_final':[df.ECL[C[0]]],'Tipo_combustible':[df.ECL[A[0]-2]],'Empresa':[df.arena[A[0]-3]]})\n",
    "        ECLdie=pd.DataFrame({'Stock_inicial':[df.arena2[A[0]]],'Stock_final':[df.arena2[C[0]]],'Tipo_combustible':[df.arena2[A[0]-2]],'Empresa':[df.arena2[A[0]-4]]})\n",
    "        ECLoil=pd.DataFrame({'Stock_inicial':[df.Norgener[A[0]]],'Stock_final':[df.Norgener[C[0]]],'Tipo_combustible':[df.Norgener[A[0]-2]],'Empresa':[df.arena2[A[0]-4]]})\n",
    "        ECLdie2=pd.DataFrame({'Stock_inicial':[df.otro2[A[0]]],'Stock_final':[df.otro2[C[0]]],'Tipo_combustible':[df.otro2[A[0]-2]],'Empresa':[df.arena2[A[0]-4]]})\n",
    "        CeltaDie=pd.DataFrame({'Stock_inicial':[df.Celta[A[0]]],'Stock_final':[df.Celta[C[0]]],'Tipo_combustible':[df.Celta[A[0]-2]],'Empresa':[df.Celta[A[0]-4]]})\n",
    "        CeltaOil=pd.DataFrame({'Stock_inicial':[df.Angamos[A[0]]],'Stock_final':[df.Angamos[C[0]]],'Tipo_combustible':[df.Angamos[A[0]-2]],'Empresa':[df.Celta[A[0]-4]]})\n",
    "                                                                                                                                  \n",
    "        df2 = df2.append(ToDie)\n",
    "        df2 = df2.append(ToOil)\n",
    "        df2 = df2.append(TaDie)\n",
    "        df2 = df2.append(TaOil)\n",
    "        df2 = df2.append(ECLdie)\n",
    "        df2 = df2.append(ECLoil)\n",
    "        df2 = df2.append(ECLdie2)\n",
    "        df2 = df2.append(CeltaDie)\n",
    "        df2 = df2.append(CeltaOil)\n",
    "\n",
    "            #La otra de abajo\n",
    "        toDie = pd.DataFrame({'Stock_inicial':[df.col[A[1]]],'Stock_final':[df.col[C[1]]],'Tipo_combustible':[df.col[A[1]-2]],'Empresa':[df.col[A[1]-4]]})\n",
    "        toOil= pd.DataFrame({'Stock_inicial':[df.Electroandina[A[1]]],'Stock_final':[df.Electroandina[C[1]]],'Tipo_combustible':[df.Electroandina[A[1]-2]],'Empresa':[df.Electroandina[A[1]-4]]})\n",
    "        taDie=pd.DataFrame({'Stock_inicial':[df.arena[A[1]]],'Stock_final':[df.arena[C[1]]],'Tipo_combustible':[df.arena[A[1]-2]],'Empresa':[df.arena[A[1]-4]]})\n",
    "        taOil=pd.DataFrame({'Stock_inicial':[df.ECL[A[1]]],'Stock_final':[df.ECL[C[1]]],'Tipo_combustible':[df.ECL[A[1]-2]],'Empresa':[df.ECL[A[1]-4]]})\n",
    "        eCLdie=pd.DataFrame({'Stock_inicial':[df.arena2[A[1]]],'Stock_final':[df.arena2[C[1]]],'Tipo_combustible':[df.arena2[A[1]-2]],'Empresa':[df.ECL[A[1]-4]]})\n",
    "        eCLoil=pd.DataFrame({'Stock_inicial':[df.Norgener[A[1]]],'Stock_final':[df.Norgener[C[1]]],'Tipo_combustible':[df.Norgener[A[1]-2]],'Empresa':[df.Norgener[A[1]-4]]})\n",
    "        eCLdie2=pd.DataFrame({'Stock_inicial':[df.otro2[A[1]]],'Stock_final':[df.otro2[C[1]]],'Tipo_combustible':[df.otro2[A[1]-2]],'Empresa':[df.otro2[A[1]-4]]})\n",
    "        celtaDie=pd.DataFrame({'Stock_inicial':[df.Celta[A[1]]],'Stock_final':[df.Celta[C[1]]],'Tipo_combustible':[df.Celta[A[1]-2]],'Empresa':[df.Celta[A[1]-4]]})\n",
    "                                                                                                                                  \n",
    "        df2 = df2.append(toDie)\n",
    "        df2 = df2.append(toOil)\n",
    "        df2 = df2.append(taDie)\n",
    "        df2 = df2.append(taOil)\n",
    "        df2 = df2.append(eCLdie)\n",
    "        df2 = df2.append(eCLoil)\n",
    "        df2 = df2.append(eCLdie2)\n",
    "        df2 = df2.append(celtaDie)\n",
    "\n",
    "        #df1 = pd.read_excel(folder+\"/\"+excel_file,sheet_name='GAG')\n",
    "        #fecha=df1.iloc[1,0]\n",
    "        df2['fecha']=get_fecha2(year,month)\n",
    "        \n",
    "        listLines.append(df2)\n",
    "    output = pd.concat(listLines)\n",
    "    output_path = \"Stock combustible 2011(Julio a Dic).csv\"\n",
    "    pandas2tsv(output,output_path)\n",
    "    \n",
    "for year in list_of_years:\n",
    "    folder1 = 'D:/Users/ldavid/Documents/Stock Combustible/Pendrives con data stock/Control de Stock/'+year\n",
    "    for month in list_of_months:\n",
    "        folder='D:/Users/ldavid/Documents/Stock Combustible/Pendrives con data stock/Control de Stock/'+year+'/'+month\n",
    "        read_excel_files(folder)"
   ]
  },
  {
   "cell_type": "code",
   "execution_count": 61,
   "metadata": {},
   "outputs": [],
   "source": [
    "df = pd.read_excel('D:/Users/ldavid/Documents/Stock Combustible/Pendrives con data stock/Control de Stock/2011/01 Enero'+\"/\"+'Control stock Enero 2011_WEB.xls',sheet_name='Stock Informado-Teórico', skiprows=84)            "
   ]
  },
  {
   "cell_type": "code",
   "execution_count": 80,
   "metadata": {},
   "outputs": [
    {
     "data": {
      "text/plain": [
       "'01-10-2011'"
      ]
     },
     "execution_count": 80,
     "metadata": {},
     "output_type": "execute_result"
    }
   ],
   "source": [
    "get_fecha2('2011','10 Octubre')"
   ]
  },
  {
   "cell_type": "code",
   "execution_count": 63,
   "metadata": {},
   "outputs": [],
   "source": [
    "        df = df.rename(columns={'Tabla N°1: Valores informados por las empresas': 'otro'})\n",
    "        df = df.rename(columns={'Unnamed: 1': 'col'})\n",
    "        df = df.rename(columns={'Unnamed: 2': 'Electroandina'})\n",
    "        df = df.rename(columns={'Unnamed: 3': 'arena'})\n",
    "        df = df.rename(columns={'Unnamed: 4': 'ECL'})\n",
    "        df = df.rename(columns={'Unnamed: 5': 'arena2'})\n",
    "        df = df.rename(columns={'Unnamed: 6': 'Norgener'})\n",
    "        df = df.rename(columns={'Unnamed: 7': 'otro2'})\n",
    "        df = df.rename(columns={'Unnamed: 8': 'Celta'})\n",
    "        df = df.rename(columns={'Unnamed: 9': 'Angamos'})\n",
    "        df = df.rename(columns={'Unnamed: 10': 'CTA'})\n",
    "        df = df.rename(columns={'Unnamed: 12': 'CTH'})\n",
    "\n",
    "        a=df.index[df['col'] == 'Stock inicial'].tolist()\n",
    "        b=df.index[df['col'] == 'Mermas'].tolist()\n",
    "        c=df.index[df['col'] == 'Stock final'].tolist()\n",
    "        A=df.index[df['otro'] == 'Stock inicial'].tolist()\n",
    "        C=df.index[df['otro'] == 'Stock final'].tolist()\n"
   ]
  },
  {
   "cell_type": "code",
   "execution_count": null,
   "metadata": {},
   "outputs": [],
   "source": []
  }
 ],
 "metadata": {
  "kernelspec": {
   "display_name": "Python 3",
   "language": "python",
   "name": "python3"
  },
  "language_info": {
   "codemirror_mode": {
    "name": "ipython",
    "version": 3
   },
   "file_extension": ".py",
   "mimetype": "text/x-python",
   "name": "python",
   "nbconvert_exporter": "python",
   "pygments_lexer": "ipython3",
   "version": "3.6.6"
  }
 },
 "nbformat": 4,
 "nbformat_minor": 2
}
