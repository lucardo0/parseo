{
 "cells": [
  {
   "cell_type": "code",
   "execution_count": 1,
   "metadata": {},
   "outputs": [],
   "source": [
    "from os import listdir\n",
    "from os.path import isfile, join, exists\n",
    "import pandas as pd\n",
    "import io\n",
    "import numpy as np\n",
    "import re\n",
    "import xlrd\n",
    "from datetime import datetime"
   ]
  },
  {
   "cell_type": "code",
   "execution_count": 2,
   "metadata": {},
   "outputs": [],
   "source": [
    "def pandas2tsv(df,path):\n",
    "    base_path = \"D:/Users/ldavid/Documents/Stock Combustible\"\n",
    "    sep = ','\n",
    "    index = False\n",
    "    header = True\n",
    "    encoding = 'utf-8-sig'\n",
    "    df.to_csv(base_path+path,\n",
    "              index=index,\n",
    "              sep=sep,\n",
    "              header=header,\n",
    "              encoding=encoding\n",
    "              )\n",
    "def get_fecha2(year,month):\n",
    "    for i in range(len(list_of_months)):\n",
    "        if i<9 and month==list_of_months[i]:\n",
    "            fecha='01-'+ '0' + str(i+1) + '-' + year\n",
    "            \n",
    "        elif i>8 and month==list_of_months[i]:\n",
    "            fecha='01-' + str(i+1) + '-' + year\n",
    "                 \n",
    "    return fecha "
   ]
  },
  {
   "cell_type": "code",
   "execution_count": 5,
   "metadata": {},
   "outputs": [],
   "source": [
    "df = pd.read_excel('D:/Users/ldavid/Documents/Stock Combustible/Pendrives con data stock/Control de Stock/2006/Enero'+\"/\"+'control stock ENERO 2006.xls',sheet_name='Stock Informado-Teórico',skiprows=61)  "
   ]
  },
  {
   "cell_type": "code",
   "execution_count": 32,
   "metadata": {},
   "outputs": [],
   "source": [
    "list_of_years=['2006']\n",
    "list_of_months=['01 Enero','02 Febrero','03 Marzo','04 Abril', '05 Mayo', '06 Junio','07 Julio','08 Agosto', '09 Septiembre','10 Octubre', '11 Noviembre', '12 Diciembre']\n",
    "#list_of_months=['01 Enero','02 Febrero']"
   ]
  },
  {
   "cell_type": "code",
   "execution_count": 35,
   "metadata": {},
   "outputs": [
    {
     "name": "stdout",
     "output_type": "stream",
     "text": [
      "control stock ENERO 2006.xls\n",
      "control stock FEBRERO 2006.xls\n",
      "control stock MARZO 2006.xls\n",
      "control stock ABRIL 2006.xls\n",
      "control stock MAYO 2006.xls\n",
      "control stock JUNIO 2006.xls\n",
      "control stock JULIO 2006.xls\n",
      "control stock AGOSTO 2006.xls\n",
      "control stock SEPTIEMBRE 2006.xls\n",
      "control stock OCTUBRE 2006.xls\n",
      "control stock NOVIEMBRE 2006.xls\n",
      "control stock DICIEMBRE 2006.xls\n"
     ]
    }
   ],
   "source": [
    "listLines = []\n",
    "\n",
    "def read_excel_files(folder):\n",
    "    onlyfiles = [f for f in listdir(folder) if isfile(join(folder, f))]\n",
    "    onlyfiles = filter(lambda x:x.endswith((\".xls\")), onlyfiles)\n",
    "    \n",
    "\n",
    "    data={}\n",
    "    columns=['Empresa','Tipo_combustible','Stock_inicial','Stock_final','Mermas','fecha']\n",
    "    df2 = pd.DataFrame(data=data, columns=columns)\n",
    "\n",
    "\n",
    "    for excel_file in onlyfiles:\n",
    "        print(excel_file)\n",
    "        df = pd.read_excel(folder+\"/\"+excel_file,sheet_name='Stock Informado-Teórico',skiprows=61)    \n",
    "\n",
    "\n",
    "        df = df.rename(columns={'Unnamed: 0': 'otro'})\n",
    "        df = df.rename(columns={'Unnamed: 1': 'col'})\n",
    "        df = df.rename(columns={'Unnamed: 2': 'Electroandina1'})\n",
    "        df = df.rename(columns={'Unnamed: 3': 'Electroandina2'})\n",
    "        df = df.rename(columns={'Unnamed: 4': 'Edelnor1'})\n",
    "        df = df.rename(columns={'Unnamed: 5': 'Edelnor2'})\n",
    "        df = df.rename(columns={'Unnamed: 6': 'Norgener1'})\n",
    "        df = df.rename(columns={'Unnamed: 7': 'Norgener2'})\n",
    "        df = df.rename(columns={'Unnamed: 8': 'Celta'})\n",
    "        df = df.rename(columns={'Unnamed: 9': 'Aesgener'})\n",
    "\n",
    "        a=df.index[df['col'] == 'Stock inicial'].tolist()\n",
    "        b=df.index[df['col'] == 'Mermas'].tolist()\n",
    "        c=df.index[df['col'] == 'Stock final'].tolist()\n",
    "        A=df.index[df['otro'] == 'Stock inicial'].tolist()\n",
    "        C=df.index[df['otro'] == 'Stock final'].tolist()\n",
    "\n",
    "\n",
    "            #Electroandina carbón\n",
    "        df3 = pd.DataFrame({'Stock_inicial':[df.Electroandina1[a[0]]],'Stock_final':[df.Electroandina1[C[0]]],'Tipo_combustible':[df.Electroandina1[a[0]-2]],'Mermas':[df.Electroandina1[b[0]]],'Empresa':[df.Electroandina1[a[0]-3]]})\n",
    "        df2 = df2.append(df3)\n",
    "            #Electroandina petcoke\n",
    "        df3 = pd.DataFrame({'Stock_inicial':[df.Electroandina2[a[0]]],'Stock_final':[df.Electroandina2[C[0]]],'Tipo_combustible':[df.Electroandina2[a[0]-2]],'Mermas':[df.Electroandina2[b[0]]],'Empresa':[df.Electroandina1[a[0]-3]]})\n",
    "        df2 = df2.append(df3)\n",
    "\n",
    "            #Edelnor carbón\n",
    "        df3 = pd.DataFrame({'Stock_inicial':[df.Edelnor1[a[0]]],'Stock_final':[df.Edelnor1[C[0]]],'Tipo_combustible':[df.Edelnor1[a[0]-2]],'Mermas':[df.Edelnor1[b[0]]],'Empresa':[df.Edelnor1[a[0]-3]]})\n",
    "        df2 = df2.append(df3) \n",
    "            #Edelnor petcoke\n",
    "        df3 = pd.DataFrame({'Stock_inicial':[df.Edelnor2[a[0]]],'Stock_final':[df.Edelnor2[C[0]]],'Tipo_combustible':[df.Edelnor2[a[0]-2]],'Mermas':[df.Edelnor2[b[0]]],'Empresa':[df.Edelnor1[a[0]-3]]})\n",
    "        df2 = df2.append(df3)      \n",
    "        \n",
    "            #Norgener carbón\n",
    "        df3 = pd.DataFrame({'Stock_inicial':[df.Norgener1[a[0]]],'Stock_final':[df.Norgener1[C[0]]],'Tipo_combustible':[df.Norgener1[a[0]-2]],'Mermas':[df.Norgener1[b[0]]],'Empresa':[df.Norgener1[a[0]-3]]})\n",
    "        df2 = df2.append(df3)  \n",
    "            #Norgener petcoke\n",
    "        df3 = pd.DataFrame({'Stock_inicial':[df.Norgener2[a[0]]],'Stock_final':[df.Norgener2[C[0]]],'Tipo_combustible':[df.Norgener2[a[0]-2]],'Mermas':[df.Norgener2[b[0]]],'Empresa':[df.Norgener1[a[0]-3]]})\n",
    "        df2 = df2.append(df3)  \n",
    "        \n",
    "            #Celta carbón\n",
    "        df3 = pd.DataFrame({'Stock_inicial':[df.Celta[a[0]]],'Stock_final':[df.Celta[C[0]]],'Tipo_combustible':[df.Celta[a[0]-2]],'Mermas':[df.Celta[b[0]]],'Empresa':[df.Celta[a[0]-3]]})\n",
    "        df2 = df2.append(df3)         \n",
    "            \n",
    "            #--------------------------------------------------------------------------------------\n",
    "            \n",
    "            #Edelnor diesel\n",
    "        df3 = pd.DataFrame({'Stock_inicial':[df.Electroandina2[A[0]]],'Stock_final':[df.Electroandina2[C[1]]],'Tipo_combustible':[df.Electroandina2[A[0]-2]],'Mermas':[0],'Empresa':[df.Electroandina2[A[0]-3]]})\n",
    "        df2 = df2.append(df3)         \n",
    "            #Edelnor oil\n",
    "        df3 = pd.DataFrame({'Stock_inicial':[df.Edelnor1[A[0]]],'Stock_final':[df.Edelnor1[C[1]]],'Tipo_combustible':[df.Edelnor1[A[0]-2]],'Mermas':[0],'Empresa':[df.Electroandina2[A[0]-3]]})\n",
    "        df2 = df2.append(df3)      \n",
    "        \n",
    "            #Celta diesel\n",
    "        df3 = pd.DataFrame({'Stock_inicial':[df.Edelnor2[A[0]]],'Stock_final':[df.Edelnor2[C[1]]],'Tipo_combustible':[df.Edelnor2[A[0]-2]],'Mermas':[0],'Empresa':[df.Edelnor2[A[0]-3]]})\n",
    "        df2 = df2.append(df3)     \n",
    "            #Celta oil\n",
    "        df3 = pd.DataFrame({'Stock_inicial':[df.Norgener1[A[0]]],'Stock_final':[df.Norgener1[C[1]]],'Tipo_combustible':[df.Norgener1[A[0]-2]],'Mermas':[0],'Empresa':[df.Edelnor2[A[0]-3]]})\n",
    "        df2 = df2.append(df3)      \n",
    "        \n",
    "            #Norgener oil\n",
    "        df3 = pd.DataFrame({'Stock_inicial':[df.Norgener2[A[0]]],'Stock_final':[df.Norgener2[C[1]]],'Tipo_combustible':[df.Norgener2[A[0]-2]],'Mermas':[0],'Empresa':[df.Norgener2[A[0]-3]]})\n",
    "        df2 = df2.append(df3)    \n",
    "        \n",
    "            #Gasatacama diesel\n",
    "        df3 = pd.DataFrame({'Stock_inicial':[df.Celta[A[0]]],'Stock_final':[df.Celta[C[1]]],'Tipo_combustible':[df.Celta[A[0]-2]],'Mermas':[0],'Empresa':[df.Celta[A[0]-3]]})\n",
    "        df2 = df2.append(df3)    \n",
    "        \n",
    "            #Aesgener diesel\n",
    "        df3 = pd.DataFrame({'Stock_inicial':[df.Aesgener[A[0]]],'Stock_final':[df.Aesgener[C[1]]],'Tipo_combustible':[df.Aesgener[A[0]-2]],'Mermas':[0],'Empresa':[df.Aesgener[A[0]-3]]})\n",
    "        df2 = df2.append(df3) \n",
    "        \n",
    "        df2['fecha']=get_fecha2(year,month)\n",
    "        listLines.append(df2)\n",
    "    output = pd.concat(listLines)\n",
    "    output_path = \"Stock combustible 2006.csv\"\n",
    "    pandas2tsv(output,output_path)\n",
    "    \n",
    "for year in list_of_years:\n",
    "    folder1 = 'D:/Users/ldavid/Documents/Stock Combustible/Pendrives con data stock/Control de Stock/'+year\n",
    "    for month in list_of_months:\n",
    "        folder='D:/Users/ldavid/Documents/Stock Combustible/Pendrives con data stock/Control de Stock/'+year+'/'+month\n",
    "        read_excel_files(folder)          "
   ]
  },
  {
   "cell_type": "code",
   "execution_count": 30,
   "metadata": {},
   "outputs": [
    {
     "data": {
      "text/plain": [
       "'Aesgener'"
      ]
     },
     "execution_count": 30,
     "metadata": {},
     "output_type": "execute_result"
    }
   ],
   "source": [
    "df.Aesgener[A[0]-3]"
   ]
  },
  {
   "cell_type": "code",
   "execution_count": null,
   "metadata": {},
   "outputs": [],
   "source": []
  }
 ],
 "metadata": {
  "kernelspec": {
   "display_name": "Python 3",
   "language": "python",
   "name": "python3"
  },
  "language_info": {
   "codemirror_mode": {
    "name": "ipython",
    "version": 3
   },
   "file_extension": ".py",
   "mimetype": "text/x-python",
   "name": "python",
   "nbconvert_exporter": "python",
   "pygments_lexer": "ipython3",
   "version": "3.6.6"
  }
 },
 "nbformat": 4,
 "nbformat_minor": 2
}
